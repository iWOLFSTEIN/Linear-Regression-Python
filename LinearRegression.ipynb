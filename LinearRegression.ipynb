{
 "cells": [
  {
   "cell_type": "code",
   "execution_count": 2,
   "metadata": {},
   "outputs": [
    {
     "name": "stdout",
     "output_type": "stream",
     "text": [
      "\n",
      "\n",
      "First 5 Rows of our Dataframe\n",
      "\n",
      "   No  X1 transaction date  X2 house age  \\\n",
      "0   1             2012.917          32.0   \n",
      "1   2             2012.917          19.5   \n",
      "2   3             2013.583          13.3   \n",
      "3   4             2013.500          13.3   \n",
      "4   5             2012.833           5.0   \n",
      "\n",
      "   X3 distance to the nearest MRT station  X4 number of convenience stores  \\\n",
      "0                                84.87882                               10   \n",
      "1                               306.59470                                9   \n",
      "2                               561.98450                                5   \n",
      "3                               561.98450                                5   \n",
      "4                               390.56840                                5   \n",
      "\n",
      "   X5 latitude  X6 longitude  Y house price of unit area  \n",
      "0     24.98298     121.54024                        37.9  \n",
      "1     24.98034     121.53951                        42.2  \n",
      "2     24.98746     121.54391                        47.3  \n",
      "3     24.98746     121.54391                        54.8  \n",
      "4     24.97937     121.54245                        43.1  \n"
     ]
    }
   ],
   "source": [
    "import pandas as pd\n",
    "from sklearn.preprocessing import LabelEncoder\n",
    "from sklearn.model_selection import train_test_split\n",
    "from sklearn.linear_model import LinearRegression\n",
    "import numpy as np\n",
    "import os\n",
    "\n",
    "\n",
    "\n",
    "dataframe = pd.read_csv('E:\\Visual Code Projects\\Python Projects\\python\\Machine Learning\\datasets\\\\real_estate.csv')\n",
    "print('\\n\\nFirst 5 Rows of our Dataframe\\n')\n",
    "print(dataframe.head())"
   ]
  },
  {
   "cell_type": "code",
   "execution_count": 3,
   "metadata": {},
   "outputs": [],
   "source": [
    "predictor = dataframe.drop(['Y house price of unit area'], axis='columns')\n",
    "target = dataframe['Y house price of unit area']"
   ]
  },
  {
   "cell_type": "code",
   "execution_count": 4,
   "metadata": {},
   "outputs": [
    {
     "data": {
      "text/plain": [
       "LinearRegression()"
      ]
     },
     "execution_count": 4,
     "metadata": {},
     "output_type": "execute_result"
    }
   ],
   "source": [
    "X_train, X_test, y_train, y_test = train_test_split(predictor, target, train_size =0.8)\n",
    "model = LinearRegression()\n",
    "model.fit(X_train, y_train)"
   ]
  },
  {
   "cell_type": "code",
   "execution_count": 5,
   "metadata": {},
   "outputs": [
    {
     "name": "stdout",
     "output_type": "stream",
     "text": [
      "[41.56894831 11.79947041 44.46428642 39.19699028 32.66697251 46.70674947\n",
      " 33.53418406 31.27191153 38.41709798 12.63284348 38.75126825 13.40596326\n",
      " 43.23081137 42.49301698 37.475584   49.07136542 35.6130202  37.21364728\n",
      " 49.21071095 40.06055018 32.4095098  39.83688637 12.51275356 35.83746563\n",
      " 20.55101634 38.97870408 37.32594075 44.95450402 39.12864019 42.15586905\n",
      " 19.04512381 31.14127865 48.08179461 34.01671422  9.16633749 43.91854865\n",
      " 43.72714372 15.76435715 42.44519572 28.48357353 50.05418844 38.52476096\n",
      " 51.76687818 44.876537   46.65241837 47.4987488  42.28090029 37.02358326\n",
      " 53.95296115 35.49982618 12.93005854 32.4188865  31.70685547 49.57330541\n",
      " 48.86146163  8.73780482 38.98871964  9.04592823 48.86117456 43.9347985\n",
      " 24.27191652 49.00705293 35.52929824 16.93845422 45.57203005 34.58287669\n",
      " 34.66843607 30.47387527 43.6629435  46.12457715 33.85531705 12.41257176\n",
      " 36.02127006 29.08905996 38.85688072 23.87317886 41.60935751 29.36338671\n",
      " 32.74743358 44.15515642 30.2507857  38.06050396 46.59173354]\n"
     ]
    }
   ],
   "source": [
    "predict = model.predict(X_test)\n",
    "print(predict)"
   ]
  },
  {
   "cell_type": "code",
   "execution_count": 6,
   "metadata": {},
   "outputs": [
    {
     "name": "stdout",
     "output_type": "stream",
     "text": [
      "0.6467350920382595\n"
     ]
    }
   ],
   "source": [
    "print(model.score(X_test, y_test))"
   ]
  }
 ],
 "metadata": {
  "interpreter": {
   "hash": "665b158588dcc47ab85000ff2b6a4607b20122ff18c80d10f82ecc3e0cfafd73"
  },
  "kernelspec": {
   "display_name": "Python 3.9.6 64-bit",
   "name": "python3"
  },
  "language_info": {
   "codemirror_mode": {
    "name": "ipython",
    "version": 3
   },
   "file_extension": ".py",
   "mimetype": "text/x-python",
   "name": "python",
   "nbconvert_exporter": "python",
   "pygments_lexer": "ipython3",
   "version": "3.9.6"
  },
  "orig_nbformat": 4
 },
 "nbformat": 4,
 "nbformat_minor": 2
}
